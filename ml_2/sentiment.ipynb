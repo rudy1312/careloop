{
 "cells": [
  {
   "cell_type": "code",
   "execution_count": 2,
   "id": "8379b54d",
   "metadata": {},
   "outputs": [
    {
     "name": "stderr",
     "output_type": "stream",
     "text": [
      "Device set to use cpu\n"
     ]
    }
   ],
   "source": [
    "from transformers import pipeline\n",
    "\n",
    "sentiment_pipeline = pipeline(\"sentiment-analysis\", model=\"nlptown/bert-base-multilingual-uncased-sentiment\")"
   ]
  },
  {
   "cell_type": "code",
   "execution_count": 5,
   "id": "150e8c42",
   "metadata": {},
   "outputs": [],
   "source": [
    "def analyze_sentiment(text):\n",
    "    try:\n",
    "        result = sentiment_pipeline(text)[0]\n",
    "        star_label = result['label']\n",
    "        score = result['score']\n",
    "\n",
    "        if star_label in ['4 stars', '5 stars']:\n",
    "            sentiment = 'positive'\n",
    "        elif star_label in ['1 star', '2 stars']:\n",
    "            sentiment = 'negative'\n",
    "        else:  # '3 stars'\n",
    "            sentiment = 'neutral'\n",
    "\n",
    "        return sentiment, score\n",
    "    except Exception as e:\n",
    "        print(f\"Error analyzing sentiment: {e}\")\n",
    "        return None, None"
   ]
  },
  {
   "cell_type": "code",
   "execution_count": 14,
   "id": "6101641f",
   "metadata": {},
   "outputs": [],
   "source": [
    "text = \"are  you mad\""
   ]
  },
  {
   "cell_type": "code",
   "execution_count": 15,
   "id": "9614dd02",
   "metadata": {},
   "outputs": [
    {
     "data": {
      "text/plain": [
       "('negative', 0.5541090965270996)"
      ]
     },
     "execution_count": 15,
     "metadata": {},
     "output_type": "execute_result"
    }
   ],
   "source": [
    "analyze_sentiment(text)"
   ]
  },
  {
   "cell_type": "code",
   "execution_count": null,
   "id": "9e95f9a7",
   "metadata": {},
   "outputs": [],
   "source": []
  }
 ],
 "metadata": {
  "kernelspec": {
   "display_name": "base",
   "language": "python",
   "name": "python3"
  },
  "language_info": {
   "codemirror_mode": {
    "name": "ipython",
    "version": 3
   },
   "file_extension": ".py",
   "mimetype": "text/x-python",
   "name": "python",
   "nbconvert_exporter": "python",
   "pygments_lexer": "ipython3",
   "version": "3.12.7"
  }
 },
 "nbformat": 4,
 "nbformat_minor": 5
}
